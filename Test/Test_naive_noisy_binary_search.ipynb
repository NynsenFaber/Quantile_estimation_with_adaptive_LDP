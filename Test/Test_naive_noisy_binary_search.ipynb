{
 "cells": [
  {
   "cell_type": "code",
   "outputs": [
    {
     "name": "stdout",
     "output_type": "stream",
     "text": [
      "The autoreload extension is already loaded. To reload it, use:\n",
      "  %reload_ext autoreload\n"
     ]
    }
   ],
   "source": [
    "# autoreload\n",
    "%load_ext autoreload\n",
    "%autoreload 2"
   ],
   "metadata": {
    "collapsed": false,
    "ExecuteTime": {
     "end_time": "2025-01-22T15:42:07.370339Z",
     "start_time": "2025-01-22T15:42:07.354709Z"
    }
   },
   "id": "f19182b3f2bb1df5",
   "execution_count": 6
  },
  {
   "cell_type": "markdown",
   "source": [
    "# Import data"
   ],
   "metadata": {
    "collapsed": false
   },
   "id": "a4b0fc1a2bfcb8cd"
  },
  {
   "cell_type": "code",
   "outputs": [
    {
     "data": {
      "text/plain": "dict_keys(['data', 'bins', 'intervals', 'median', 'median_quantile', 'cf_dict'])"
     },
     "execution_count": 57,
     "metadata": {},
     "output_type": "execute_result"
    }
   ],
   "source": [
    "import pickle\n",
    "\n",
    "def upload_data(N: int, B_exp: int):\n",
    "    folder_name = f\"../experiments/pareto_income_data/data/N_{N}/B_exp_{B_exp}\"\n",
    "    output = {}\n",
    "    # import data\n",
    "    with open(f'{folder_name}/pareto_data.pkl', 'rb') as f:\n",
    "        data = pickle.load(f)\n",
    "    output[\"data\"] = data\n",
    "\n",
    "    # import bins\n",
    "    with open(f'{folder_name}/pareto_bins.pkl', 'rb') as f:\n",
    "        bins = pickle.load(f)\n",
    "    output[\"bins\"] = bins\n",
    "\n",
    "    # import intervals\n",
    "    with open(f'{folder_name}/pareto_intervals.pkl', 'rb') as f:\n",
    "        intervals = pickle.load(f)\n",
    "    output[\"intervals\"] = intervals\n",
    "\n",
    "    # import median\n",
    "    with open(f'{folder_name}/pareto_median.pkl', 'rb') as f:\n",
    "        median = pickle.load(f)\n",
    "    output[\"median\"] = median\n",
    "\n",
    "    # import median quantile\n",
    "    with open(f'{folder_name}/pareto_median_quantile.pkl', 'rb') as f:\n",
    "        median_quantile = pickle.load(f)\n",
    "    output[\"median_quantile\"] = median_quantile\n",
    "\n",
    "    # import cdf\n",
    "    with open(f'{folder_name}/pareto_cdf.pkl', 'rb') as f:\n",
    "        cf_dict = pickle.load(f)\n",
    "    output[\"cf_dict\"] = cf_dict\n",
    "\n",
    "    return output\n",
    "\n",
    "\n",
    "N = 5000\n",
    "B_exp = 9\n",
    "data_dict = upload_data(N, B_exp)"
   ],
   "metadata": {
    "collapsed": false,
    "ExecuteTime": {
     "end_time": "2025-01-22T16:03:35.925534Z",
     "start_time": "2025-01-22T16:03:35.835826Z"
    }
   },
   "id": "c71e9c89114f8938",
   "execution_count": 57
  },
  {
   "cell_type": "code",
   "outputs": [
    {
     "data": {
      "text/plain": "<Figure size 640x480 with 1 Axes>",
      "image/png": "[encoded data removed]"
     },
     "metadata": {},
     "output_type": "display_data"
    }
   ],
   "source": [
    "# print cdf of the data\n",
    "import numpy as np\n",
    "import matplotlib.pyplot as plt\n",
    "\n",
    "cdf = data_dict[\"cf_dict\"]\n",
    "median = data_dict[\"median\"]\n",
    "median_quantile = data_dict[\"median_quantile\"]\n",
    "x = np.array(list(cdf.keys()))\n",
    "y = np.array(list(cdf.values()))\n",
    "plt.plot(x, y, label=f\"Median quantile: {median_quantile:.2f} and median: {median}\")\n",
    "plt.xlabel(\"data\")\n",
    "plt.xscale(\"log\")\n",
    "plt.ylabel(\"cdf\")\n",
    "plt.title(\"Empirical Sensitive CDF\")\n",
    "plt.legend()\n",
    "plt.show()"
   ],
   "metadata": {
    "collapsed": false,
    "ExecuteTime": {
     "end_time": "2025-01-22T16:06:02.727761Z",
     "start_time": "2025-01-22T16:06:02.551497Z"
    }
   },
   "id": "7799e400116ac0ba",
   "execution_count": 64
  },
  {
   "cell_type": "markdown",
   "source": [
    "# Mechanism"
   ],
   "metadata": {
    "collapsed": false
   },
   "id": "47d1ea433dc01b13"
  },
  {
   "cell_type": "code",
   "outputs": [
    {
     "name": "stdout",
     "output_type": "stream",
     "text": [
      "Time taken: 0.00 seconds\n"
     ]
    }
   ],
   "source": [
    "from naive_noisy_binary_search.mechanism import naive_noisy_binary_search\n",
    "import time\n",
    "\n",
    "target = 0.5\n",
    "eps = 0.5\n",
    "replacement = False\n",
    "\n",
    "start = time.time()\n",
    "dp_median = naive_noisy_binary_search(data=data_dict[\"data\"],\n",
    "                                      coins=data_dict[\"bins\"],\n",
    "                                      target=target,\n",
    "                                      eps=eps,\n",
    "                                      replacement=replacement,\n",
    "                                      test=True)\n",
    "print(f\"Time taken: {time.time() - start:.2f} seconds\")"
   ],
   "metadata": {
    "collapsed": false,
    "ExecuteTime": {
     "end_time": "2025-01-22T16:06:24.546400Z",
     "start_time": "2025-01-22T16:06:24.522593Z"
    }
   },
   "id": "729f13a77e2a4a75",
   "execution_count": 65
  },
  {
   "cell_type": "markdown",
   "source": [
    "# Error"
   ],
   "metadata": {
    "collapsed": false
   },
   "id": "e1ecddda4dab6dbd"
  },
  {
   "cell_type": "code",
   "outputs": [],
   "source": [
    "dp_median_quantile = None\n",
    "dp_median_quantile = cdf[dp_median]\n",
    "error = abs(dp_median_quantile - median_quantile)"
   ],
   "metadata": {
    "collapsed": false,
    "ExecuteTime": {
     "end_time": "2025-01-22T16:06:33.768378Z",
     "start_time": "2025-01-22T16:06:33.750958Z"
    }
   },
   "id": "2266f5c76facf45d",
   "execution_count": 66
  },
  {
   "cell_type": "code",
   "outputs": [
    {
     "name": "stdout",
     "output_type": "stream",
     "text": [
      "True median: 1170\n",
      "DP median: 1259\n",
      "Error: 0.021399999999999975\n"
     ]
    }
   ],
   "source": [
    "print(\"True median:\", median)\n",
    "print(\"DP median:\", dp_median)\n",
    "print(\"Error:\", error)"
   ],
   "metadata": {
    "collapsed": false,
    "ExecuteTime": {
     "end_time": "2025-01-22T16:06:34.186839Z",
     "start_time": "2025-01-22T16:06:34.174237Z"
    }
   },
   "id": "3d0b88076d9e30c2",
   "execution_count": 67
  }
 ],
 "metadata": {
  "kernelspec": {
   "display_name": "Python 3",
   "language": "python",
   "name": "python3"
  },
  "language_info": {
   "codemirror_mode": {
    "name": "ipython",
    "version": 2
   },
   "file_extension": ".py",
   "mimetype": "text/x-python",
   "name": "python",
   "nbconvert_exporter": "python",
   "pygments_lexer": "ipython2",
   "version": "2.7.6"
  }
 },
 "nbformat": 4,
 "nbformat_minor": 5
}
