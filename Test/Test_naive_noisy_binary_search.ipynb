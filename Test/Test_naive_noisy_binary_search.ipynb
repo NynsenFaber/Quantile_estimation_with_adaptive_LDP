{
 "cells": [
  {
   "cell_type": "code",
   "outputs": [
    {
     "name": "stdout",
     "output_type": "stream",
     "text": [
      "The autoreload extension is already loaded. To reload it, use:\n",
      "  %reload_ext autoreload\n"
     ]
    }
   ],
   "source": [
    "# autoreload\n",
    "%load_ext autoreload\n",
    "%autoreload 2"
   ],
   "metadata": {
    "collapsed": false,
    "ExecuteTime": {
     "end_time": "2024-05-19T15:21:04.419750Z",
     "start_time": "2024-05-19T15:21:04.399264Z"
    }
   },
   "id": "f19182b3f2bb1df5",
   "execution_count": 57
  },
  {
   "cell_type": "code",
   "outputs": [],
   "source": [
    "import matplotlib.pyplot as plt\n",
    "import numpy as np\n",
    "from scipy.stats import ecdf\n",
    "import time"
   ],
   "metadata": {
    "collapsed": false,
    "ExecuteTime": {
     "end_time": "2024-05-19T15:21:04.794470Z",
     "start_time": "2024-05-19T15:21:04.777952Z"
    }
   },
   "id": "115b1e9be325b203",
   "execution_count": 58
  },
  {
   "cell_type": "markdown",
   "source": [
    "# Generate data"
   ],
   "metadata": {
    "collapsed": false
   },
   "id": "a4b0fc1a2bfcb8cd"
  },
  {
   "cell_type": "code",
   "outputs": [
    {
     "data": {
      "text/plain": "<Figure size 640x480 with 1 Axes>",
      "image/png": "[encoded data removed]"
     },
     "metadata": {},
     "output_type": "display_data"
    }
   ],
   "source": [
    "def generate_pareto_data(shape, N, scale=2000):\n",
    "    D = np.random.pareto(shape, N) * scale\n",
    "    return D\n",
    "\n",
    "\n",
    "N = 10000  # number of samples\n",
    "\n",
    "# generate the data\n",
    "data = generate_pareto_data(1.5, N)\n",
    "\n",
    "# discretize the data\n",
    "num_bins = int(4 ** 9)  # Number of bins\n",
    "bins = np.array(range(num_bins))  # Bin edges\n",
    "intervals = np.array([bins[:-1], bins[1:]]).T\n",
    "data = np.round(data).astype(int)  # integer data\n",
    "data = np.clip(data, 0, num_bins - 1)\n",
    "\n",
    "# get the empirical cdf of the coins\n",
    "cf = ecdf(data)\n",
    "cf_dict = dict(zip(cf.cdf.quantiles, cf.cdf.probabilities))\n",
    "\n",
    "# get the median quantile\n",
    "median = None\n",
    "for i, j in enumerate(cf_dict.keys()):\n",
    "    if cf_dict[j] > 0.5:\n",
    "        median = int(list(cf_dict.keys())[i - 1])\n",
    "        break\n",
    "median_quantile = cf_dict[median]\n",
    "\n",
    "# plot cdf\n",
    "plt.plot(cf.cdf.quantiles, cf.cdf.probabilities, label=f\"Median quantile: {median_quantile:.2f} and median: {median}\")\n",
    "plt.xlabel(\"data\")\n",
    "plt.xscale(\"log\")\n",
    "plt.ylabel(\"cdf\")\n",
    "plt.title(\"Empirical Sensitive CDF\")\n",
    "plt.legend()\n",
    "plt.show()"
   ],
   "metadata": {
    "collapsed": false,
    "ExecuteTime": {
     "end_time": "2024-05-19T15:21:05.767568Z",
     "start_time": "2024-05-19T15:21:05.570035Z"
    }
   },
   "id": "c71e9c89114f8938",
   "execution_count": 59
  },
  {
   "cell_type": "markdown",
   "source": [
    "# Mechanism"
   ],
   "metadata": {
    "collapsed": false
   },
   "id": "47d1ea433dc01b13"
  },
  {
   "cell_type": "code",
   "outputs": [
    {
     "name": "stdout",
     "output_type": "stream",
     "text": [
      "Time taken: 0.03 seconds\n"
     ]
    }
   ],
   "source": [
    "from naive_noisy_binary_search.mechanism import naive_noisy_binary_search\n",
    "from naive_noisy_binary_search.utils import get_intervals\n",
    "\n",
    "intervals = get_intervals(bins)\n",
    "\n",
    "target = 0.5\n",
    "eps = 0.5\n",
    "replacement = False\n",
    "M = len(data)\n",
    "alpha = 0.05\n",
    "\n",
    "start = time.time()\n",
    "dp_median = naive_noisy_binary_search(data=data,\n",
    "                                      intervals=intervals,\n",
    "                                      target=target,\n",
    "                                      eps=eps,\n",
    "                                      M=M,\n",
    "                                      replacement=replacement)\n",
    "print(f\"Time taken: {time.time() - start:.2f} seconds\")"
   ],
   "metadata": {
    "collapsed": false,
    "ExecuteTime": {
     "end_time": "2024-05-19T15:21:30.591376Z",
     "start_time": "2024-05-19T15:21:30.542864Z"
    }
   },
   "id": "729f13a77e2a4a75",
   "execution_count": 72
  },
  {
   "cell_type": "markdown",
   "source": [
    "# Error"
   ],
   "metadata": {
    "collapsed": false
   },
   "id": "e1ecddda4dab6dbd"
  },
  {
   "cell_type": "code",
   "outputs": [],
   "source": [
    "dp_median_quantile = None\n",
    "if dp_median in cf_dict.keys():\n",
    "    dp_median_quantile = cf_dict[dp_median]\n",
    "else:\n",
    "    for quantile in reversed(range(dp_median)):\n",
    "        if quantile in cf_dict.keys():\n",
    "            dp_median_quantile = cf_dict[quantile]\n",
    "            break\n",
    "error = dp_median_quantile - median_quantile"
   ],
   "metadata": {
    "collapsed": false,
    "ExecuteTime": {
     "end_time": "2024-05-19T15:21:31.371441Z",
     "start_time": "2024-05-19T15:21:31.355219Z"
    }
   },
   "id": "2266f5c76facf45d",
   "execution_count": 73
  },
  {
   "cell_type": "code",
   "outputs": [
    {
     "name": "stdout",
     "output_type": "stream",
     "text": [
      "True median: 1143\n",
      "DP median: 998\n",
      "Error: -0.03860000000000002\n"
     ]
    }
   ],
   "source": [
    "print(\"True median:\", median)\n",
    "print(\"DP median:\", dp_median)\n",
    "print(\"Error:\", error)"
   ],
   "metadata": {
    "collapsed": false,
    "ExecuteTime": {
     "end_time": "2024-05-19T15:21:31.786243Z",
     "start_time": "2024-05-19T15:21:31.765311Z"
    }
   },
   "id": "3d0b88076d9e30c2",
   "execution_count": 74
  },
  {
   "cell_type": "code",
   "outputs": [
    {
     "data": {
      "text/plain": "'0.14.1'"
     },
     "execution_count": 78,
     "metadata": {},
     "output_type": "execute_result"
    }
   ],
   "source": [
    "import statsmodels\n",
    "statsmodels.__version__"
   ],
   "metadata": {
    "collapsed": false,
    "ExecuteTime": {
     "end_time": "2024-05-19T20:37:22.649786Z",
     "start_time": "2024-05-19T20:37:22.217579Z"
    }
   },
   "id": "f80472912992172d",
   "execution_count": 78
  },
  {
   "cell_type": "code",
   "outputs": [],
   "source": [],
   "metadata": {
    "collapsed": false
   },
   "id": "53528284a50ff626"
  }
 ],
 "metadata": {
  "kernelspec": {
   "display_name": "Python 3",
   "language": "python",
   "name": "python3"
  },
  "language_info": {
   "codemirror_mode": {
    "name": "ipython",
    "version": 2
   },
   "file_extension": ".py",
   "mimetype": "text/x-python",
   "name": "python",
   "nbconvert_exporter": "python",
   "pygments_lexer": "ipython2",
   "version": "2.7.6"
  }
 },
 "nbformat": 4,
 "nbformat_minor": 5
}
