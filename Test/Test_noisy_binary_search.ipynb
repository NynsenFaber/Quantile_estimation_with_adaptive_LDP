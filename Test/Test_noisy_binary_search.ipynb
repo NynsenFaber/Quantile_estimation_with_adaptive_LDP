{
 "cells": [
  {
   "cell_type": "code",
   "outputs": [
    {
     "name": "stdout",
     "output_type": "stream",
     "text": [
      "The autoreload extension is already loaded. To reload it, use:\n",
      "  %reload_ext autoreload\n"
     ]
    }
   ],
   "source": [
    "%load_ext autoreload\n",
    "%autoreload 2"
   ],
   "metadata": {
    "collapsed": false,
    "ExecuteTime": {
     "end_time": "2024-05-15T12:04:45.931925Z",
     "start_time": "2024-05-15T12:04:45.911993Z"
    }
   },
   "id": "23cbe7536ebc7c79",
   "execution_count": 50
  },
  {
   "cell_type": "code",
   "outputs": [],
   "source": [
    "import matplotlib.pyplot as plt\n",
    "import numpy as np\n",
    "from scipy.stats import ecdf\n",
    "import time"
   ],
   "metadata": {
    "collapsed": false,
    "ExecuteTime": {
     "end_time": "2024-05-15T12:04:46.222647Z",
     "start_time": "2024-05-15T12:04:46.208384Z"
    }
   },
   "id": "1cb67e038bf2db68",
   "execution_count": 51
  },
  {
   "cell_type": "markdown",
   "source": [
    "# Generate data"
   ],
   "metadata": {
    "collapsed": false
   },
   "id": "cd4c7cc05db95384"
  },
  {
   "cell_type": "code",
   "outputs": [
    {
     "data": {
      "text/plain": "<Figure size 640x480 with 1 Axes>",
      "image/png": "[encoded data removed]"
     },
     "metadata": {},
     "output_type": "display_data"
    }
   ],
   "source": [
    "def generate_pareto_data(shape, N, scale=2000):\n",
    "    D = np.random.pareto(shape, N) * scale\n",
    "    return D\n",
    "\n",
    "\n",
    "N = 10000  # number of samples\n",
    "\n",
    "# generate the data\n",
    "data = generate_pareto_data(1.5, N)\n",
    "\n",
    "# discretize the data\n",
    "num_bins = int(4 ** 9)  # Number of bins\n",
    "bins = np.array(range(num_bins))  # Bin edges\n",
    "intervals = np.array([bins[:-1], bins[1:]]).T\n",
    "data = np.round(data).astype(int)  # integer data\n",
    "data = np.clip(data, 0, num_bins - 1)\n",
    "\n",
    "# get the empirical cdf of the coins\n",
    "cf = ecdf(data)\n",
    "cf_dict = dict(zip(cf.cdf.quantiles, cf.cdf.probabilities))\n",
    "\n",
    "# get the median quantile\n",
    "median = None\n",
    "for i, j in enumerate(cf_dict.keys()):\n",
    "    if cf_dict[j] > 0.5:\n",
    "        median = int(list(cf_dict.keys())[i-1])\n",
    "        break\n",
    "median_quantile = cf_dict[median]\n",
    "\n",
    "# plot cdf\n",
    "plt.plot(cf.cdf.quantiles, cf.cdf.probabilities, label=f\"Median quantile: {median_quantile:.2f} and median: {median}\")\n",
    "plt.xlabel(\"data\")\n",
    "plt.xscale(\"log\")\n",
    "plt.ylabel(\"cdf\")\n",
    "plt.title(\"Empirical Sensitive CDF\")\n",
    "plt.legend()\n",
    "plt.show()"
   ],
   "metadata": {
    "collapsed": false,
    "ExecuteTime": {
     "end_time": "2024-05-15T12:04:47.292782Z",
     "start_time": "2024-05-15T12:04:47.129194Z"
    }
   },
   "id": "843dc9dfad28faa5",
   "execution_count": 52
  },
  {
   "cell_type": "markdown",
   "source": [
    "# Mechanism"
   ],
   "metadata": {
    "collapsed": false
   },
   "id": "f26bcbc23ed6c172"
  },
  {
   "cell_type": "code",
   "outputs": [
    {
     "name": "stdout",
     "output_type": "stream",
     "text": [
      "Time taken: 0.29 seconds\n"
     ]
    }
   ],
   "source": [
    "from noisy_binary_search.mechanism import noisy_binary_search\n",
    "from noisy_binary_search.utils import get_intervals\n",
    "\n",
    "intervals = get_intervals(bins)\n",
    "\n",
    "target = 0.5\n",
    "eps = 1\n",
    "replacement = False\n",
    "M = len(data)\n",
    "alpha = 0.05\n",
    "\n",
    "start = time.time()\n",
    "dp_median = noisy_binary_search(data=data,\n",
    "                                alpha=alpha,\n",
    "                                intervals=intervals,\n",
    "                                target=target,\n",
    "                                eps=eps,\n",
    "                                M=M,\n",
    "                                replacement=replacement)\n",
    "print(f\"Time taken: {time.time() - start:.2f} seconds\")"
   ],
   "metadata": {
    "collapsed": false,
    "ExecuteTime": {
     "end_time": "2024-05-15T12:05:14.182985Z",
     "start_time": "2024-05-15T12:05:13.875412Z"
    }
   },
   "id": "56a80be38e24cf31",
   "execution_count": 53
  },
  {
   "cell_type": "markdown",
   "source": [
    "# Error"
   ],
   "metadata": {
    "collapsed": false
   },
   "id": "bba64a61281aadab"
  },
  {
   "cell_type": "code",
   "outputs": [],
   "source": [
    "dp_median_quantile = None\n",
    "if dp_median in cf_dict.keys():\n",
    "    dp_median_quantile = cf_dict[dp_median]\n",
    "else:\n",
    "    for quantile in reversed(range(dp_median)):\n",
    "        if quantile in cf_dict.keys():\n",
    "            dp_median_quantile = cf_dict[quantile]\n",
    "            break\n",
    "error = dp_median_quantile - median_quantile"
   ],
   "metadata": {
    "collapsed": false,
    "ExecuteTime": {
     "end_time": "2024-05-15T12:05:15.459258Z",
     "start_time": "2024-05-15T12:05:15.439189Z"
    }
   },
   "id": "24fcd12e6c23d900",
   "execution_count": 54
  },
  {
   "cell_type": "code",
   "outputs": [
    {
     "name": "stdout",
     "output_type": "stream",
     "text": [
      "True median: 1131\n",
      "DP median: 1024\n",
      "Error: -0.028000000000000025\n"
     ]
    }
   ],
   "source": [
    "print(\"True median:\", median)\n",
    "print(\"DP median:\", dp_median)\n",
    "print(\"Error:\", error)"
   ],
   "metadata": {
    "collapsed": false,
    "ExecuteTime": {
     "end_time": "2024-05-15T12:05:16.163084Z",
     "start_time": "2024-05-15T12:05:16.145262Z"
    }
   },
   "id": "9b5cd80b4d36ae0f",
   "execution_count": 55
  },
  {
   "cell_type": "code",
   "outputs": [],
   "source": [],
   "metadata": {
    "collapsed": false
   },
   "id": "8186bfb6e33fa460"
  }
 ],
 "metadata": {
  "kernelspec": {
   "display_name": "Python 3",
   "language": "python",
   "name": "python3"
  },
  "language_info": {
   "codemirror_mode": {
    "name": "ipython",
    "version": 2
   },
   "file_extension": ".py",
   "mimetype": "text/x-python",
   "name": "python",
   "nbconvert_exporter": "python",
   "pygments_lexer": "ipython2",
   "version": "2.7.6"
  }
 },
 "nbformat": 4,
 "nbformat_minor": 5
}
