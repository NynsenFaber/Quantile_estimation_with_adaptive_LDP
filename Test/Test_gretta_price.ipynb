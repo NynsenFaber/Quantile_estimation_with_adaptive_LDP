{
 "cells": [
  {
   "cell_type": "code",
   "outputs": [
    {
     "name": "stdout",
     "output_type": "stream",
     "text": [
      "The autoreload extension is already loaded. To reload it, use:\n",
      "  %reload_ext autoreload\n"
     ]
    }
   ],
   "source": [
    "%load_ext autoreload\n",
    "%autoreload 2"
   ],
   "metadata": {
    "collapsed": false,
    "ExecuteTime": {
     "end_time": "2024-05-15T12:02:36.150953Z",
     "start_time": "2024-05-15T12:02:36.131456Z"
    }
   },
   "id": "b7171662c6db0593",
   "execution_count": 9
  },
  {
   "cell_type": "code",
   "outputs": [],
   "source": [
    "import matplotlib.pyplot as plt\n",
    "import numpy as np\n",
    "from scipy.stats import ecdf\n",
    "import time"
   ],
   "metadata": {
    "collapsed": false,
    "ExecuteTime": {
     "end_time": "2024-05-15T12:02:36.833543Z",
     "start_time": "2024-05-15T12:02:36.818708Z"
    }
   },
   "id": "f4be30a3e4fe0894",
   "execution_count": 10
  },
  {
   "cell_type": "markdown",
   "source": [
    "# Generate data"
   ],
   "metadata": {
    "collapsed": false
   },
   "id": "11d2a4940049f334"
  },
  {
   "cell_type": "code",
   "outputs": [
    {
     "data": {
      "text/plain": "<Figure size 640x480 with 1 Axes>",
      "image/png": "[encoded data removed]"
     },
     "metadata": {},
     "output_type": "display_data"
    }
   ],
   "source": [
    "def generate_pareto_data(shape, N, scale=2000):\n",
    "    D = np.random.pareto(shape, N) * scale\n",
    "    return D\n",
    "\n",
    "\n",
    "N = 10000  # number of samples\n",
    "\n",
    "# generate the data\n",
    "data = generate_pareto_data(1.5, N)\n",
    "\n",
    "# discretize the data\n",
    "num_bins = int(4 ** 9)  # Number of bins\n",
    "bins = np.array(range(num_bins))  # Bin edges\n",
    "intervals = np.array([bins[:-1], bins[1:]]).T\n",
    "data = np.round(data).astype(int)  # integer data\n",
    "data = np.clip(data, 0, num_bins - 1)\n",
    "\n",
    "# get the empirical cdf of the coins\n",
    "cf = ecdf(data)\n",
    "cf_dict = dict(zip(cf.cdf.quantiles, cf.cdf.probabilities))\n",
    "\n",
    "# get the median quantile\n",
    "median = None\n",
    "for i, j in enumerate(cf_dict.keys()):\n",
    "    if cf_dict[j] > 0.5:\n",
    "        median = int(list(cf_dict.keys())[i-1])\n",
    "        break\n",
    "median_quantile = cf_dict[median]\n",
    "\n",
    "# plot cdf\n",
    "plt.plot(cf.cdf.quantiles, cf.cdf.probabilities, label=f\"Median quantile: {median_quantile:.2f} and median: {median}\")\n",
    "plt.xlabel(\"data\")\n",
    "plt.xscale(\"log\")\n",
    "plt.ylabel(\"cdf\")\n",
    "plt.title(\"Empirical Sensitive CDF\")\n",
    "plt.legend()\n",
    "plt.show()"
   ],
   "metadata": {
    "collapsed": false,
    "ExecuteTime": {
     "end_time": "2024-05-15T12:02:38.799571Z",
     "start_time": "2024-05-15T12:02:38.628704Z"
    }
   },
   "id": "11491bdd42f740a1",
   "execution_count": 11
  },
  {
   "cell_type": "markdown",
   "source": [
    "# Mechanism"
   ],
   "metadata": {
    "collapsed": false
   },
   "id": "86f1eb963c5fa346"
  },
  {
   "cell_type": "code",
   "outputs": [
    {
     "name": "stdout",
     "output_type": "stream",
     "text": [
      "Time taken: 10.74 seconds\n"
     ]
    }
   ],
   "source": [
    "from gretta_price_dp.mechanism import gretta_price_dp\n",
    "from gretta_price_dp.utils import get_intervals\n",
    "\n",
    "intervals = get_intervals(bins)\n",
    "\n",
    "target = 0.5\n",
    "eps = 1\n",
    "replacement = False\n",
    "M = len(data)\n",
    "alpha = 0.05\n",
    "\n",
    "start = time.time()\n",
    "dp_median = gretta_price_dp(data=data,\n",
    "                            alpha=alpha,\n",
    "                            eps=eps,\n",
    "                            M=M,\n",
    "                            intervals=intervals,\n",
    "                            replacement=replacement,\n",
    "                            target=target)\n",
    "print(f\"Time taken: {time.time() - start:.2f} seconds\")"
   ],
   "metadata": {
    "collapsed": false,
    "ExecuteTime": {
     "end_time": "2024-05-15T12:03:25.379985Z",
     "start_time": "2024-05-15T12:03:14.622324Z"
    }
   },
   "id": "3609b30ce2389bd8",
   "execution_count": 12
  },
  {
   "cell_type": "markdown",
   "source": [
    "# Error"
   ],
   "metadata": {
    "collapsed": false
   },
   "id": "ebb734e85d330264"
  },
  {
   "cell_type": "code",
   "outputs": [],
   "source": [
    "dp_median_quantile = None\n",
    "if dp_median in cf_dict.keys():\n",
    "    dp_median_quantile = cf_dict[dp_median]\n",
    "else:\n",
    "    for quantile in reversed(range(dp_median)):\n",
    "        if quantile in cf_dict.keys():\n",
    "            dp_median_quantile = cf_dict[quantile]\n",
    "            break\n",
    "error = dp_median_quantile - median_quantile"
   ],
   "metadata": {
    "collapsed": false,
    "ExecuteTime": {
     "end_time": "2024-05-15T11:46:21.027025Z",
     "start_time": "2024-05-15T11:46:21.009451Z"
    }
   },
   "id": "bb5d3ef5c9c41d05",
   "execution_count": 6
  },
  {
   "cell_type": "code",
   "outputs": [
    {
     "name": "stdout",
     "output_type": "stream",
     "text": [
      "True median: 1143\n",
      "DP median: 1296\n",
      "Error: 0.03620000000000001\n"
     ]
    }
   ],
   "source": [
    "print(\"True median:\", median)\n",
    "print(\"DP median:\", dp_median)\n",
    "print(\"Error:\", error)"
   ],
   "metadata": {
    "collapsed": false,
    "ExecuteTime": {
     "end_time": "2024-05-15T11:46:21.554648Z",
     "start_time": "2024-05-15T11:46:21.540723Z"
    }
   },
   "id": "57a96b08f546615f",
   "execution_count": 7
  },
  {
   "cell_type": "code",
   "outputs": [],
   "source": [],
   "metadata": {
    "collapsed": false
   },
   "id": "ae65dd016c4488db"
  }
 ],
 "metadata": {
  "kernelspec": {
   "display_name": "Python 3",
   "language": "python",
   "name": "python3"
  },
  "language_info": {
   "codemirror_mode": {
    "name": "ipython",
    "version": 2
   },
   "file_extension": ".py",
   "mimetype": "text/x-python",
   "name": "python",
   "nbconvert_exporter": "python",
   "pygments_lexer": "ipython2",
   "version": "2.7.6"
  }
 },
 "nbformat": 4,
 "nbformat_minor": 5
}
